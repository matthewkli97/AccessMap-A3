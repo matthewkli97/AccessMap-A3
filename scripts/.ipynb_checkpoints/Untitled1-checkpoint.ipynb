{
 "cells": [
  {
   "cell_type": "code",
   "execution_count": null,
   "metadata": {},
   "outputs": [],
   "source": [
    "import geopandas as gpd\n",
    "import matplotlib.pyplot as plt\n",
    "import pandas as pd\n",
    "import sys\n",
    "import argparse\n",
    "import overpass\n"
   ]
  },
  {
   "cell_type": "code",
   "execution_count": 1,
   "metadata": {},
   "outputs": [],
   "source": [
    "import overpass\n",
    "api = overpass.API()\n",
    "response = api.Get('node[\"name\"=\"Salt Lake City\"]')"
   ]
  },
  {
   "cell_type": "code",
   "execution_count": 3,
   "metadata": {},
   "outputs": [
    {
     "name": "stdout",
     "output_type": "stream",
     "text": [
      "{\"features\": [{\"geometry\": {\"coordinates\": [-111.8904308, 40.7670126], \"type\": \"Point\"}, \"id\": 150935219, \"properties\": {\"capital\": \"4\", \"census:population\": \"2015\", \"ele\": \"1288\", \"gnis:Class\": \"Populated Place\", \"gnis:County\": \"Salt Lake\", \"gnis:County_num\": \"035\", \"gnis:ST_alpha\": \"UT\", \"gnis:ST_num\": \"49\", \"gnis:id\": \"1454997\", \"import_uuid\": \"bb7269ee-502a-5391-8056-e3ce0e66489c\", \"is_in\": \"Salt Lake,Utah,Utah,UT,USA\", \"is_in:continent\": \"North America\", \"is_in:country\": \"United States\", \"is_in:country_code\": \"US\", \"name\": \"Salt Lake City\", \"name:en\": \"Salt Lake City\", \"name:lt\": \"Solt Leik Sitis\", \"name:pl\": \"Salt Lake City\", \"name:ru\": \"\\u0421\\u043e\\u043b\\u0442-\\u041b\\u0435\\u0439\\u043a-\\u0421\\u0438\\u0442\\u0438\", \"name:ta\": \"\\u0b9a\\u0bbe\\u0bb2\\u0bcd\\u0b9f\\u0bcd \\u0bb2\\u0bc7\\u0b95\\u0bcd \\u0ba8\\u0b95\\u0bb0\\u0bae\\u0bcd\", \"name:uk\": \"\\u0421\\u043e\\u043b\\u0442-\\u041b\\u0435\\u0439\\u043a-\\u0421\\u0456\\u0442\\u0456\", \"place\": \"city\", \"population\": \"192672\", \"state_capital\": \"yes\", \"wikidata\": \"Q23337\", \"wikipedia\": \"en:Salt Lake City\"}, \"type\": \"Feature\"}, {\"geometry\": {\"coordinates\": [-111.89, 40.761], \"type\": \"Point\"}, \"id\": 585370637, \"properties\": {\"landuse\": \"quarry\", \"man_made\": \"mine\", \"name\": \"Salt Lake City\", \"note\": \"Record <a href=\\\"http://tin.er.usgs.gov/mineplant/show.php?labno=3148\\\">3148</a> of the <a href=\\\"http://tin.er.usgs.gov/mineplant/\\\">Active mines and mineral plants in the US</a>\"}, \"type\": \"Feature\"}], \"type\": \"FeatureCollection\"}\n"
     ]
    }
   ],
   "source": [
    "print(response)"
   ]
  },
  {
   "cell_type": "code",
   "execution_count": 4,
   "metadata": {},
   "outputs": [],
   "source": [
    "map_query = overpass.MapQuery(50.746,7.154,50.748,7.157)\n",
    "response = api.Get(map_query)"
   ]
  },
  {
   "cell_type": "code",
   "execution_count": 6,
   "metadata": {},
   "outputs": [
    {
     "ename": "NameError",
     "evalue": "name 'gpd' is not defined",
     "output_type": "error",
     "traceback": [
      "\u001b[0;31m---------------------------------------------------------------------------\u001b[0m",
      "\u001b[0;31mNameError\u001b[0m                                 Traceback (most recent call last)",
      "\u001b[0;32m<ipython-input-6-9b40f25c5236>\u001b[0m in \u001b[0;36m<module>\u001b[0;34m()\u001b[0m\n\u001b[0;32m----> 1\u001b[0;31m \u001b[0msidewalks\u001b[0m \u001b[0;34m=\u001b[0m \u001b[0mgpd\u001b[0m\u001b[0;34m.\u001b[0m\u001b[0mread_file\u001b[0m\u001b[0;34m(\u001b[0m\u001b[0mresponse\u001b[0m\u001b[0;34m)\u001b[0m\u001b[0;34m\u001b[0m\u001b[0m\n\u001b[0m\u001b[1;32m      2\u001b[0m \u001b[0;34m\u001b[0m\u001b[0m\n",
      "\u001b[0;31mNameError\u001b[0m: name 'gpd' is not defined"
     ]
    }
   ],
   "source": [
    "sidewalks = gpd.read_file(response)\n",
    "\n"
   ]
  },
  {
   "cell_type": "code",
   "execution_count": null,
   "metadata": {},
   "outputs": [],
   "source": []
  }
 ],
 "metadata": {
  "kernelspec": {
   "display_name": "Python 3",
   "language": "python",
   "name": "python3"
  },
  "language_info": {
   "codemirror_mode": {
    "name": "ipython",
    "version": 3
   },
   "file_extension": ".py",
   "mimetype": "text/x-python",
   "name": "python",
   "nbconvert_exporter": "python",
   "pygments_lexer": "ipython3",
   "version": "3.6.3"
  }
 },
 "nbformat": 4,
 "nbformat_minor": 2
}
