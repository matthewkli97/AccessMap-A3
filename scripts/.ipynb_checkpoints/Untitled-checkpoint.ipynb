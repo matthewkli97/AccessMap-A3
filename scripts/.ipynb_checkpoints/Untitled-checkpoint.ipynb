{
 "cells": [
  {
   "cell_type": "code",
   "execution_count": 4,
   "metadata": {},
   "outputs": [],
   "source": [
    "import geopandas as gpd\n",
    "import matplotlib.pyplot as plt\n",
    "import pandas as pd\n",
    "\n",
    "%matplotlib inline\n"
   ]
  },
  {
   "cell_type": "code",
   "execution_count": 5,
   "metadata": {},
   "outputs": [
    {
     "data": {
      "text/html": [
       "<div>\n",
       "<style scoped>\n",
       "    .dataframe tbody tr th:only-of-type {\n",
       "        vertical-align: middle;\n",
       "    }\n",
       "\n",
       "    .dataframe tbody tr th {\n",
       "        vertical-align: top;\n",
       "    }\n",
       "\n",
       "    .dataframe thead th {\n",
       "        text-align: right;\n",
       "    }\n",
       "</style>\n",
       "<table border=\"1\" class=\"dataframe\">\n",
       "  <thead>\n",
       "    <tr style=\"text-align: right;\">\n",
       "      <th></th>\n",
       "      <th>OBJECTID</th>\n",
       "      <th>SIDEWALK_U</th>\n",
       "      <th>OBSERV_TYP</th>\n",
       "      <th>OBSTRUCTIO</th>\n",
       "      <th>CLEARANCE_</th>\n",
       "      <th>TREE_UNITI</th>\n",
       "      <th>MINIMUM_WI</th>\n",
       "      <th>LEVEL_DIFF</th>\n",
       "      <th>UTILITY_OW</th>\n",
       "      <th>ISOLATED_C</th>\n",
       "      <th>FAILING_SH</th>\n",
       "      <th>SURFACE_CO</th>\n",
       "      <th>OTHER_FEAT</th>\n",
       "      <th>HEIGHT_DIF</th>\n",
       "      <th>GlobalID</th>\n",
       "      <th>geometry</th>\n",
       "    </tr>\n",
       "  </thead>\n",
       "  <tbody>\n",
       "    <tr>\n",
       "      <th>0</th>\n",
       "      <td>1</td>\n",
       "      <td>SDW-44610</td>\n",
       "      <td>SURFCOND</td>\n",
       "      <td></td>\n",
       "      <td></td>\n",
       "      <td></td>\n",
       "      <td></td>\n",
       "      <td></td>\n",
       "      <td></td>\n",
       "      <td></td>\n",
       "      <td></td>\n",
       "      <td>CRACK&gt;72</td>\n",
       "      <td></td>\n",
       "      <td></td>\n",
       "      <td>d01c130e-e5ff-4105-9e70-cd304fc1991d</td>\n",
       "      <td>POINT (-122.333868062383 47.55421346976489)</td>\n",
       "    </tr>\n",
       "    <tr>\n",
       "      <th>1</th>\n",
       "      <td>2</td>\n",
       "      <td>SDW-44610</td>\n",
       "      <td>HEIGHTDIFF</td>\n",
       "      <td></td>\n",
       "      <td></td>\n",
       "      <td>TRE-1067558</td>\n",
       "      <td></td>\n",
       "      <td>UPLIFT</td>\n",
       "      <td></td>\n",
       "      <td></td>\n",
       "      <td></td>\n",
       "      <td></td>\n",
       "      <td></td>\n",
       "      <td>0.61</td>\n",
       "      <td>4dd58259-caab-4c0a-9e38-24463d6b2bed</td>\n",
       "      <td>POINT (-122.3335182104243 47.5542197502451)</td>\n",
       "    </tr>\n",
       "    <tr>\n",
       "      <th>2</th>\n",
       "      <td>3</td>\n",
       "      <td>SDW-44610</td>\n",
       "      <td>HEIGHTDIFF</td>\n",
       "      <td></td>\n",
       "      <td></td>\n",
       "      <td>TRE-1067558</td>\n",
       "      <td></td>\n",
       "      <td>UPLIFT</td>\n",
       "      <td></td>\n",
       "      <td></td>\n",
       "      <td></td>\n",
       "      <td></td>\n",
       "      <td></td>\n",
       "      <td>1.33</td>\n",
       "      <td>5ca774c2-b8d7-4117-8823-fc4390800370</td>\n",
       "      <td>POINT (-122.3334340700717 47.55422600738782)</td>\n",
       "    </tr>\n",
       "    <tr>\n",
       "      <th>3</th>\n",
       "      <td>4</td>\n",
       "      <td>SDW-44610</td>\n",
       "      <td>HEIGHTDIFF</td>\n",
       "      <td></td>\n",
       "      <td></td>\n",
       "      <td></td>\n",
       "      <td></td>\n",
       "      <td>UPLIFT</td>\n",
       "      <td></td>\n",
       "      <td></td>\n",
       "      <td></td>\n",
       "      <td></td>\n",
       "      <td></td>\n",
       "      <td>0.73</td>\n",
       "      <td>e0b5e922-07d7-4f04-91e1-e0989a35cc71</td>\n",
       "      <td>POINT (-122.3333873843994 47.55423323384112)</td>\n",
       "    </tr>\n",
       "    <tr>\n",
       "      <th>4</th>\n",
       "      <td>5</td>\n",
       "      <td>SDW-44610</td>\n",
       "      <td>HEIGHTDIFF</td>\n",
       "      <td></td>\n",
       "      <td></td>\n",
       "      <td></td>\n",
       "      <td></td>\n",
       "      <td>SETTLING</td>\n",
       "      <td></td>\n",
       "      <td></td>\n",
       "      <td></td>\n",
       "      <td></td>\n",
       "      <td></td>\n",
       "      <td>1.7</td>\n",
       "      <td>6cf3980f-a5f1-487a-bb28-06de9b686f14</td>\n",
       "      <td>POINT (-122.3332620358998 47.55423716133004)</td>\n",
       "    </tr>\n",
       "  </tbody>\n",
       "</table>\n",
       "</div>"
      ],
      "text/plain": [
       "   OBJECTID SIDEWALK_U  OBSERV_TYP OBSTRUCTIO CLEARANCE_   TREE_UNITI  \\\n",
       "0         1  SDW-44610    SURFCOND                                      \n",
       "1         2  SDW-44610  HEIGHTDIFF                        TRE-1067558   \n",
       "2         3  SDW-44610  HEIGHTDIFF                        TRE-1067558   \n",
       "3         4  SDW-44610  HEIGHTDIFF                                      \n",
       "4         5  SDW-44610  HEIGHTDIFF                                      \n",
       "\n",
       "  MINIMUM_WI LEVEL_DIFF UTILITY_OW ISOLATED_C FAILING_SH SURFACE_CO  \\\n",
       "0                                                          CRACK>72   \n",
       "1                UPLIFT                                               \n",
       "2                UPLIFT                                               \n",
       "3                UPLIFT                                               \n",
       "4              SETTLING                                               \n",
       "\n",
       "  OTHER_FEAT HEIGHT_DIF                              GlobalID  \\\n",
       "0                        d01c130e-e5ff-4105-9e70-cd304fc1991d   \n",
       "1                  0.61  4dd58259-caab-4c0a-9e38-24463d6b2bed   \n",
       "2                  1.33  5ca774c2-b8d7-4117-8823-fc4390800370   \n",
       "3                  0.73  e0b5e922-07d7-4f04-91e1-e0989a35cc71   \n",
       "4                   1.7  6cf3980f-a5f1-487a-bb28-06de9b686f14   \n",
       "\n",
       "                                       geometry  \n",
       "0   POINT (-122.333868062383 47.55421346976489)  \n",
       "1   POINT (-122.3335182104243 47.5542197502451)  \n",
       "2  POINT (-122.3334340700717 47.55422600738782)  \n",
       "3  POINT (-122.3333873843994 47.55423323384112)  \n",
       "4  POINT (-122.3332620358998 47.55423716133004)  "
      ]
     },
     "execution_count": 5,
     "metadata": {},
     "output_type": "execute_result"
    }
   ],
   "source": [
    "observations = gpd.read_file('../data/SidewalkObservations/SidewalkObservations.shp')\n",
    "observations.head()"
   ]
  },
  {
   "cell_type": "code",
   "execution_count": null,
   "metadata": {},
   "outputs": [],
   "source": []
  },
  {
   "cell_type": "code",
   "execution_count": 15,
   "metadata": {},
   "outputs": [
    {
     "data": {
      "text/html": [
       "<div>\n",
       "<style scoped>\n",
       "    .dataframe tbody tr th:only-of-type {\n",
       "        vertical-align: middle;\n",
       "    }\n",
       "\n",
       "    .dataframe tbody tr th {\n",
       "        vertical-align: top;\n",
       "    }\n",
       "\n",
       "    .dataframe thead th {\n",
       "        text-align: right;\n",
       "    }\n",
       "</style>\n",
       "<table border=\"1\" class=\"dataframe\">\n",
       "  <thead>\n",
       "    <tr style=\"text-align: right;\">\n",
       "      <th></th>\n",
       "      <th>timestamp</th>\n",
       "      <th>version</th>\n",
       "      <th>changeset</th>\n",
       "      <th>user</th>\n",
       "      <th>uid</th>\n",
       "      <th>direction</th>\n",
       "      <th>name</th>\n",
       "      <th>network</th>\n",
       "      <th>NHS</th>\n",
       "      <th>ref</th>\n",
       "      <th>...</th>\n",
       "      <th>seamark:small_craft_facility:category</th>\n",
       "      <th>classification</th>\n",
       "      <th>service:bicycle:chain_tool</th>\n",
       "      <th>service:bicycle:pump</th>\n",
       "      <th>bin</th>\n",
       "      <th>local_ref</th>\n",
       "      <th>elevator</th>\n",
       "      <th>recycling_type</th>\n",
       "      <th>name:zh</th>\n",
       "      <th>geometry</th>\n",
       "    </tr>\n",
       "  </thead>\n",
       "  <tbody>\n",
       "    <tr>\n",
       "      <th>0</th>\n",
       "      <td>2017-11-03T09:19:25</td>\n",
       "      <td>1312</td>\n",
       "      <td>53473452</td>\n",
       "      <td>andygol</td>\n",
       "      <td>94578</td>\n",
       "      <td>north</td>\n",
       "      <td>I 5 (WA) (North)</td>\n",
       "      <td>US:I</td>\n",
       "      <td>Interstate</td>\n",
       "      <td>5</td>\n",
       "      <td>...</td>\n",
       "      <td>None</td>\n",
       "      <td>None</td>\n",
       "      <td>None</td>\n",
       "      <td>None</td>\n",
       "      <td>None</td>\n",
       "      <td>None</td>\n",
       "      <td>None</td>\n",
       "      <td>None</td>\n",
       "      <td>None</td>\n",
       "      <td>LINESTRING (-122.3224229 47.6466995, -122.3224...</td>\n",
       "    </tr>\n",
       "    <tr>\n",
       "      <th>1</th>\n",
       "      <td>2014-09-23T20:50:45</td>\n",
       "      <td>2</td>\n",
       "      <td>25633651</td>\n",
       "      <td>seattlefyi</td>\n",
       "      <td>692614</td>\n",
       "      <td>None</td>\n",
       "      <td>University Playground</td>\n",
       "      <td>None</td>\n",
       "      <td>None</td>\n",
       "      <td>None</td>\n",
       "      <td>...</td>\n",
       "      <td>None</td>\n",
       "      <td>None</td>\n",
       "      <td>None</td>\n",
       "      <td>None</td>\n",
       "      <td>None</td>\n",
       "      <td>None</td>\n",
       "      <td>None</td>\n",
       "      <td>None</td>\n",
       "      <td>None</td>\n",
       "      <td>POLYGON ((-122.3197131 47.6648778, -122.318508...</td>\n",
       "    </tr>\n",
       "    <tr>\n",
       "      <th>2</th>\n",
       "      <td>2017-01-06T23:53:43</td>\n",
       "      <td>3</td>\n",
       "      <td>44970184</td>\n",
       "      <td>sctrojan79</td>\n",
       "      <td>2601744</td>\n",
       "      <td>None</td>\n",
       "      <td>Medicinal Herb Garden</td>\n",
       "      <td>None</td>\n",
       "      <td>None</td>\n",
       "      <td>None</td>\n",
       "      <td>...</td>\n",
       "      <td>None</td>\n",
       "      <td>None</td>\n",
       "      <td>None</td>\n",
       "      <td>None</td>\n",
       "      <td>None</td>\n",
       "      <td>None</td>\n",
       "      <td>None</td>\n",
       "      <td>None</td>\n",
       "      <td>None</td>\n",
       "      <td>(POLYGON ((-122.3088177 47.652345, -122.308763...</td>\n",
       "    </tr>\n",
       "    <tr>\n",
       "      <th>3</th>\n",
       "      <td>2017-10-16T10:09:43</td>\n",
       "      <td>33</td>\n",
       "      <td>52977549</td>\n",
       "      <td>Teesta</td>\n",
       "      <td>6443638</td>\n",
       "      <td>None</td>\n",
       "      <td>Route 372: University District Lake City</td>\n",
       "      <td>None</td>\n",
       "      <td>None</td>\n",
       "      <td>372</td>\n",
       "      <td>...</td>\n",
       "      <td>None</td>\n",
       "      <td>None</td>\n",
       "      <td>None</td>\n",
       "      <td>None</td>\n",
       "      <td>None</td>\n",
       "      <td>None</td>\n",
       "      <td>None</td>\n",
       "      <td>None</td>\n",
       "      <td>None</td>\n",
       "      <td>LINESTRING (-122.3027247 47.6581335, -122.3027...</td>\n",
       "    </tr>\n",
       "    <tr>\n",
       "      <th>4</th>\n",
       "      <td>2017-11-03T09:19:27</td>\n",
       "      <td>24</td>\n",
       "      <td>53473452</td>\n",
       "      <td>andygol</td>\n",
       "      <td>94578</td>\n",
       "      <td>None</td>\n",
       "      <td>Route 511 Northbound</td>\n",
       "      <td>Sound Transit Express</td>\n",
       "      <td>None</td>\n",
       "      <td>511</td>\n",
       "      <td>...</td>\n",
       "      <td>None</td>\n",
       "      <td>None</td>\n",
       "      <td>None</td>\n",
       "      <td>None</td>\n",
       "      <td>None</td>\n",
       "      <td>None</td>\n",
       "      <td>None</td>\n",
       "      <td>None</td>\n",
       "      <td>None</td>\n",
       "      <td>LINESTRING (-122.3226507 47.6467029, -122.3225...</td>\n",
       "    </tr>\n",
       "  </tbody>\n",
       "</table>\n",
       "<p>5 rows × 271 columns</p>\n",
       "</div>"
      ],
      "text/plain": [
       "             timestamp version changeset        user      uid direction  \\\n",
       "0  2017-11-03T09:19:25    1312  53473452     andygol    94578     north   \n",
       "1  2014-09-23T20:50:45       2  25633651  seattlefyi   692614      None   \n",
       "2  2017-01-06T23:53:43       3  44970184  sctrojan79  2601744      None   \n",
       "3  2017-10-16T10:09:43      33  52977549      Teesta  6443638      None   \n",
       "4  2017-11-03T09:19:27      24  53473452     andygol    94578      None   \n",
       "\n",
       "                                       name                network  \\\n",
       "0                          I 5 (WA) (North)                   US:I   \n",
       "1                     University Playground                   None   \n",
       "2                     Medicinal Herb Garden                   None   \n",
       "3  Route 372: University District Lake City                   None   \n",
       "4                      Route 511 Northbound  Sound Transit Express   \n",
       "\n",
       "          NHS   ref                        ...                          \\\n",
       "0  Interstate     5                        ...                           \n",
       "1        None  None                        ...                           \n",
       "2        None  None                        ...                           \n",
       "3        None   372                        ...                           \n",
       "4        None   511                        ...                           \n",
       "\n",
       "  seamark:small_craft_facility:category classification  \\\n",
       "0                                  None           None   \n",
       "1                                  None           None   \n",
       "2                                  None           None   \n",
       "3                                  None           None   \n",
       "4                                  None           None   \n",
       "\n",
       "  service:bicycle:chain_tool service:bicycle:pump   bin local_ref elevator  \\\n",
       "0                       None                 None  None      None     None   \n",
       "1                       None                 None  None      None     None   \n",
       "2                       None                 None  None      None     None   \n",
       "3                       None                 None  None      None     None   \n",
       "4                       None                 None  None      None     None   \n",
       "\n",
       "  recycling_type name:zh                                           geometry  \n",
       "0           None    None  LINESTRING (-122.3224229 47.6466995, -122.3224...  \n",
       "1           None    None  POLYGON ((-122.3197131 47.6648778, -122.318508...  \n",
       "2           None    None  (POLYGON ((-122.3088177 47.652345, -122.308763...  \n",
       "3           None    None  LINESTRING (-122.3027247 47.6581335, -122.3027...  \n",
       "4           None    None  LINESTRING (-122.3226507 47.6467029, -122.3225...  \n",
       "\n",
       "[5 rows x 271 columns]"
      ]
     },
     "execution_count": 15,
     "metadata": {},
     "output_type": "execute_result"
    }
   ],
   "source": [
    "sidewalks = gpd.read_file('../data/map.geojson')\n",
    "sidewalks.head()"
   ]
  },
  {
   "cell_type": "code",
   "execution_count": 7,
   "metadata": {},
   "outputs": [
    {
     "data": {
      "text/plain": [
       "<matplotlib.axes._subplots.AxesSubplot at 0x12631aa58>"
      ]
     },
     "execution_count": 7,
     "metadata": {},
     "output_type": "execute_result"
    },
    {
     "data": {
      "image/png": "[encoded data removed]",
      "text/plain": [
       "<matplotlib.figure.Figure at 0x12631a588>"
      ]
     },
     "metadata": {},
     "output_type": "display_data"
    }
   ],
   "source": [
    "lines = sidewalks[sidewalks.geometry.type == 'LineString']\n",
    "lines.plot()"
   ]
  },
  {
   "cell_type": "code",
   "execution_count": 16,
   "metadata": {},
   "outputs": [
    {
     "data": {
      "image/svg+xml": [
       "<svg xmlns=\"http://www.w3.org/2000/svg\" xmlns:xlink=\"http://www.w3.org/1999/xlink\" width=\"100.0\" height=\"100.0\" viewBox=\"-123.33343407007173 46.55422600738782 2.0 2.0\" preserveAspectRatio=\"xMinYMin meet\"><g transform=\"matrix(1,0,0,-1,0,95.10845201477564)\"><circle cx=\"-122.33343407007173\" cy=\"47.55422600738782\" r=\"0.06\" stroke=\"#555555\" stroke-width=\"0.02\" fill=\"#66cc99\" opacity=\"0.6\" /></g></svg>"
      ],
      "text/plain": [
       "<shapely.geometry.point.Point at 0x10f991588>"
      ]
     },
     "execution_count": 16,
     "metadata": {},
     "output_type": "execute_result"
    }
   ],
   "source": [
    "point = observations.loc[2].geometry\n",
    "point"
   ]
  },
  {
   "cell_type": "code",
   "execution_count": 17,
   "metadata": {},
   "outputs": [
    {
     "data": {
      "text/plain": [
       "timestamp                                                              2017-11-02T06:47:40\n",
       "version                                                                                 58\n",
       "changeset                                                                         53442273\n",
       "user                                                                               Natfoot\n",
       "uid                                                                                 567792\n",
       "direction                                                                             None\n",
       "name                                                                    Burke-Gilman Trail\n",
       "network                                                                                rcn\n",
       "NHS                                                                                   None\n",
       "ref                                                                                   None\n",
       "route                                                                              bicycle\n",
       "symbol                                                                                None\n",
       "type                                                                                 route\n",
       "id                                                                        relation/2183654\n",
       "leisure                                                                               None\n",
       "source                                                                                None\n",
       "website                                                                               None\n",
       "ele                                                                                   None\n",
       "gnis:county_id                                                                        None\n",
       "gnis:created                                                                          None\n",
       "gnis:feature_id                                                                       None\n",
       "gnis:state_id                                                                         None\n",
       "gtfs:agency_id                                                                        None\n",
       "gtfs:dataset_id                                                                       None\n",
       "gtfs:trip_id                                                                          None\n",
       "gtfs:trip_marker                                                                      None\n",
       "operator                                                                              None\n",
       "public_transport:version                                                              None\n",
       "from                                                                                  None\n",
       "to                                                                                    None\n",
       "                                                               ...                        \n",
       "smoking                                                                               None\n",
       "check_date                                                                            None\n",
       "wifi                                                                                  None\n",
       "internet_access:fee                                                                   None\n",
       "healthcare                                                                            None\n",
       "club                                                                                  None\n",
       "name:en                                                                               None\n",
       "level                                                                                 None\n",
       "emergency                                                                             None\n",
       "fire_hydrant:type                                                                     None\n",
       "backrest                                                                              None\n",
       "artist_name                                                                           None\n",
       "artist:wikipedia                                                                      None\n",
       "material                                                                              None\n",
       "date                                                                                  None\n",
       "address                                                                               None\n",
       "measurements                                                                          None\n",
       "media                                                                                 None\n",
       "sac_id                                                                                None\n",
       "seamark:information                                                                   None\n",
       "seamark:small_craft_facility:category                                                 None\n",
       "classification                                                                        None\n",
       "service:bicycle:chain_tool                                                            None\n",
       "service:bicycle:pump                                                                  None\n",
       "bin                                                                                   None\n",
       "local_ref                                                                             None\n",
       "elevator                                                                              None\n",
       "recycling_type                                                                        None\n",
       "name:zh                                                                               None\n",
       "geometry                                 LINESTRING (-122.3335348 47.6470833, -122.3334...\n",
       "Name: 6, Length: 271, dtype: object"
      ]
     },
     "execution_count": 17,
     "metadata": {},
     "output_type": "execute_result"
    }
   ],
   "source": [
    "distances = lines.distance(point)\n",
    "sidewalk = sidewalks.loc[distances[distances == distances.min()].index[0]]\n",
    "sidewalk"
   ]
  },
  {
   "cell_type": "code",
   "execution_count": 18,
   "metadata": {},
   "outputs": [
    {
     "data": {
      "text/plain": [
       "[3404,\n",
       " 3403,\n",
       " 97,\n",
       " 96,\n",
       " 6,\n",
       " 3011,\n",
       " 46,\n",
       " 9,\n",
       " 33,\n",
       " 4,\n",
       " 84,\n",
       " 95,\n",
       " 87,\n",
       " 34,\n",
       " 15,\n",
       " 94,\n",
       " 85,\n",
       " 86,\n",
       " 3015]"
      ]
     },
     "execution_count": 18,
     "metadata": {},
     "output_type": "execute_result"
    }
   ],
   "source": [
    "mylist = [x.object for x in lines.sindex.nearest(point.bounds, 10, objects=True)]\n",
    "mylist"
   ]
  },
  {
   "cell_type": "code",
   "execution_count": 21,
   "metadata": {
    "scrolled": true
   },
   "outputs": [
    {
     "data": {
      "text/plain": [
       "0.092857347247175384"
      ]
     },
     "execution_count": 21,
     "metadata": {},
     "output_type": "execute_result"
    }
   ],
   "source": [
    "lines.loc[mylist].distance(point).min()"
   ]
  },
  {
   "cell_type": "code",
   "execution_count": 23,
   "metadata": {},
   "outputs": [
    {
     "data": {
      "text/plain": [
       "<matplotlib.axes._subplots.AxesSubplot at 0x11dae8f28>"
      ]
     },
     "execution_count": 23,
     "metadata": {},
     "output_type": "execute_result"
    },
    {
     "data": {
      "image/png": "[encoded data removed]",
      "text/plain": [
       "<matplotlib.figure.Figure at 0x11dadfe48>"
      ]
     },
     "metadata": {},
     "output_type": "display_data"
    }
   ],
   "source": [
    "lines.loc[mylist].plot()"
   ]
  },
  {
   "cell_type": "code",
   "execution_count": 24,
   "metadata": {},
   "outputs": [],
   "source": [
    "points = sidewalks[sidewalks.geometry.type == 'Point']"
   ]
  },
  {
   "cell_type": "code",
   "execution_count": 25,
   "metadata": {},
   "outputs": [
    {
     "data": {
      "text/plain": [
       "[5973, 7751, 6326, 6378, 5983, 6379, 6109, 6784, 6735, 7793]"
      ]
     },
     "execution_count": 25,
     "metadata": {},
     "output_type": "execute_result"
    }
   ],
   "source": [
    "pointList = [x.object for x in points.sindex.nearest(point.bounds, 10, objects=True)]\n",
    "pointList"
   ]
  },
  {
   "cell_type": "code",
   "execution_count": 27,
   "metadata": {},
   "outputs": [
    {
     "data": {
      "text/plain": [
       "0.09307928643820286"
      ]
     },
     "execution_count": 27,
     "metadata": {},
     "output_type": "execute_result"
    }
   ],
   "source": [
    "points.loc[pointList].distance(point).min()"
   ]
  },
  {
   "cell_type": "code",
   "execution_count": null,
   "metadata": {},
   "outputs": [],
   "source": []
  }
 ],
 "metadata": {
  "kernelspec": {
   "display_name": "Python 3",
   "language": "python",
   "name": "python3"
  },
  "language_info": {
   "codemirror_mode": {
    "name": "ipython",
    "version": 3
   },
   "file_extension": ".py",
   "mimetype": "text/x-python",
   "name": "python",
   "nbconvert_exporter": "python",
   "pygments_lexer": "ipython3",
   "version": "3.6.3"
  }
 },
 "nbformat": 4,
 "nbformat_minor": 2
}
