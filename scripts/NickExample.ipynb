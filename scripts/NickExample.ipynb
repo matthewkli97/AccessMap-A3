{
 "cells": [
  {
   "cell_type": "code",
   "execution_count": 3,
   "metadata": {},
   "outputs": [],
   "source": [
    "import geopandas as gpd\n",
    "import matplotlib.pyplot as plt\n",
    "import pandas as pd\n",
    "\n",
    "%matplotlib inline"
   ]
  },
  {
   "cell_type": "code",
   "execution_count": 4,
   "metadata": {},
   "outputs": [
    {
     "ename": "OSError",
     "evalue": "no such file or directory: './accessmap/projects/crossify/test/input/udistrict_sidewalks.geojson'",
     "output_type": "error",
     "traceback": [
      "\u001b[0;31m---------------------------------------------------------------------------\u001b[0m",
      "\u001b[0;31mOSError\u001b[0m                                   Traceback (most recent call last)",
      "\u001b[0;32m<ipython-input-4-2b674de27cdb>\u001b[0m in \u001b[0;36m<module>\u001b[0;34m()\u001b[0m\n\u001b[0;32m----> 1\u001b[0;31m \u001b[0msidewalks\u001b[0m \u001b[0;34m=\u001b[0m \u001b[0mgpd\u001b[0m\u001b[0;34m.\u001b[0m\u001b[0mread_file\u001b[0m\u001b[0;34m(\u001b[0m\u001b[0;34m'./accessmap/projects/crossify/test/input/udistrict_sidewalks.geojson'\u001b[0m\u001b[0;34m)\u001b[0m\u001b[0;34m\u001b[0m\u001b[0m\n\u001b[0m",
      "\u001b[0;32m/usr/local/lib/python3.6/site-packages/geopandas/io/file.py\u001b[0m in \u001b[0;36mread_file\u001b[0;34m(filename, **kwargs)\u001b[0m\n\u001b[1;32m     17\u001b[0m     \"\"\"\n\u001b[1;32m     18\u001b[0m     \u001b[0mbbox\u001b[0m \u001b[0;34m=\u001b[0m \u001b[0mkwargs\u001b[0m\u001b[0;34m.\u001b[0m\u001b[0mpop\u001b[0m\u001b[0;34m(\u001b[0m\u001b[0;34m'bbox'\u001b[0m\u001b[0;34m,\u001b[0m \u001b[0;32mNone\u001b[0m\u001b[0;34m)\u001b[0m\u001b[0;34m\u001b[0m\u001b[0m\n\u001b[0;32m---> 19\u001b[0;31m     \u001b[0;32mwith\u001b[0m \u001b[0mfiona\u001b[0m\u001b[0;34m.\u001b[0m\u001b[0mopen\u001b[0m\u001b[0;34m(\u001b[0m\u001b[0mfilename\u001b[0m\u001b[0;34m,\u001b[0m \u001b[0;34m**\u001b[0m\u001b[0mkwargs\u001b[0m\u001b[0;34m)\u001b[0m \u001b[0;32mas\u001b[0m \u001b[0mf\u001b[0m\u001b[0;34m:\u001b[0m\u001b[0;34m\u001b[0m\u001b[0m\n\u001b[0m\u001b[1;32m     20\u001b[0m         \u001b[0mcrs\u001b[0m \u001b[0;34m=\u001b[0m \u001b[0mf\u001b[0m\u001b[0;34m.\u001b[0m\u001b[0mcrs\u001b[0m\u001b[0;34m\u001b[0m\u001b[0m\n\u001b[1;32m     21\u001b[0m         \u001b[0;32mif\u001b[0m \u001b[0mbbox\u001b[0m \u001b[0;32mis\u001b[0m \u001b[0;32mnot\u001b[0m \u001b[0;32mNone\u001b[0m\u001b[0;34m:\u001b[0m\u001b[0;34m\u001b[0m\u001b[0m\n",
      "\u001b[0;32m/usr/local/lib/python3.6/site-packages/fiona/__init__.py\u001b[0m in \u001b[0;36mopen\u001b[0;34m(path, mode, driver, schema, crs, encoding, layer, vfs, enabled_drivers, crs_wkt)\u001b[0m\n\u001b[1;32m    160\u001b[0m                 \u001b[0;32mraise\u001b[0m \u001b[0mIOError\u001b[0m\u001b[0;34m(\u001b[0m\u001b[0;34m\"no such archive file: %r\"\u001b[0m \u001b[0;34m%\u001b[0m \u001b[0marchive\u001b[0m\u001b[0;34m)\u001b[0m\u001b[0;34m\u001b[0m\u001b[0m\n\u001b[1;32m    161\u001b[0m         \u001b[0;32melif\u001b[0m \u001b[0mpath\u001b[0m \u001b[0;34m!=\u001b[0m \u001b[0;34m'-'\u001b[0m \u001b[0;32mand\u001b[0m \u001b[0;32mnot\u001b[0m \u001b[0mos\u001b[0m\u001b[0;34m.\u001b[0m\u001b[0mpath\u001b[0m\u001b[0;34m.\u001b[0m\u001b[0mexists\u001b[0m\u001b[0;34m(\u001b[0m\u001b[0mpath\u001b[0m\u001b[0;34m)\u001b[0m\u001b[0;34m:\u001b[0m\u001b[0;34m\u001b[0m\u001b[0m\n\u001b[0;32m--> 162\u001b[0;31m             \u001b[0;32mraise\u001b[0m \u001b[0mIOError\u001b[0m\u001b[0;34m(\u001b[0m\u001b[0;34m\"no such file or directory: %r\"\u001b[0m \u001b[0;34m%\u001b[0m \u001b[0mpath\u001b[0m\u001b[0;34m)\u001b[0m\u001b[0;34m\u001b[0m\u001b[0m\n\u001b[0m\u001b[1;32m    163\u001b[0m         c = Collection(path, mode, driver=driver, encoding=encoding,\n\u001b[1;32m    164\u001b[0m                        \u001b[0mlayer\u001b[0m\u001b[0;34m=\u001b[0m\u001b[0mlayer\u001b[0m\u001b[0;34m,\u001b[0m \u001b[0mvsi\u001b[0m\u001b[0;34m=\u001b[0m\u001b[0mvsi\u001b[0m\u001b[0;34m,\u001b[0m \u001b[0marchive\u001b[0m\u001b[0;34m=\u001b[0m\u001b[0marchive\u001b[0m\u001b[0;34m,\u001b[0m\u001b[0;34m\u001b[0m\u001b[0m\n",
      "\u001b[0;31mOSError\u001b[0m: no such file or directory: './accessmap/projects/crossify/test/input/udistrict_sidewalks.geojson'"
     ]
    }
   ],
   "source": [
    "sidewalks = gpd.read_file('./accessmap/projects/crossify/test/input/udistrict_sidewalks.geojson')"
   ]
  },
  {
   "cell_type": "code",
   "execution_count": 8,
   "metadata": {},
   "outputs": [
    {
     "data": {
      "text/html": [
       "<div>\n",
       "<style>\n",
       "    .dataframe thead tr:only-child th {\n",
       "        text-align: right;\n",
       "    }\n",
       "\n",
       "    .dataframe thead th {\n",
       "        text-align: left;\n",
       "    }\n",
       "\n",
       "    .dataframe tbody tr th {\n",
       "        vertical-align: top;\n",
       "    }\n",
       "</style>\n",
       "<table border=\"1\" class=\"dataframe\">\n",
       "  <thead>\n",
       "    <tr style=\"text-align: right;\">\n",
       "      <th></th>\n",
       "      <th>timestamp</th>\n",
       "      <th>version</th>\n",
       "      <th>changeset</th>\n",
       "      <th>user</th>\n",
       "      <th>uid</th>\n",
       "      <th>foot</th>\n",
       "      <th>footway</th>\n",
       "      <th>highway</th>\n",
       "      <th>id</th>\n",
       "      <th>lit</th>\n",
       "      <th>...</th>\n",
       "      <th>gtfs:stop_id</th>\n",
       "      <th>operator</th>\n",
       "      <th>public_transport</th>\n",
       "      <th>ref</th>\n",
       "      <th>shelter</th>\n",
       "      <th>source</th>\n",
       "      <th>kerb</th>\n",
       "      <th>tactile_paving</th>\n",
       "      <th>entrance</th>\n",
       "      <th>geometry</th>\n",
       "    </tr>\n",
       "  </thead>\n",
       "  <tbody>\n",
       "    <tr>\n",
       "      <th>0</th>\n",
       "      <td>2017-02-26T23:24:35Z</td>\n",
       "      <td>8</td>\n",
       "      <td>46428403</td>\n",
       "      <td>NickBolten</td>\n",
       "      <td>2773196</td>\n",
       "      <td>yes</td>\n",
       "      <td>sidewalk</td>\n",
       "      <td>footway</td>\n",
       "      <td>way/272711571</td>\n",
       "      <td>None</td>\n",
       "      <td>...</td>\n",
       "      <td>None</td>\n",
       "      <td>None</td>\n",
       "      <td>None</td>\n",
       "      <td>None</td>\n",
       "      <td>None</td>\n",
       "      <td>None</td>\n",
       "      <td>None</td>\n",
       "      <td>None</td>\n",
       "      <td>None</td>\n",
       "      <td>LINESTRING (-122.3119423 47.6569598, -122.3119...</td>\n",
       "    </tr>\n",
       "    <tr>\n",
       "      <th>22</th>\n",
       "      <td>2017-02-20T06:11:41Z</td>\n",
       "      <td>4</td>\n",
       "      <td>46233958</td>\n",
       "      <td>nbolten_import</td>\n",
       "      <td>5348229</td>\n",
       "      <td>yes</td>\n",
       "      <td>sidewalk</td>\n",
       "      <td>footway</td>\n",
       "      <td>way/436161748</td>\n",
       "      <td>None</td>\n",
       "      <td>...</td>\n",
       "      <td>None</td>\n",
       "      <td>None</td>\n",
       "      <td>None</td>\n",
       "      <td>None</td>\n",
       "      <td>None</td>\n",
       "      <td>None</td>\n",
       "      <td>None</td>\n",
       "      <td>None</td>\n",
       "      <td>None</td>\n",
       "      <td>LINESTRING (-122.3134001 47.6554413, -122.3133...</td>\n",
       "    </tr>\n",
       "    <tr>\n",
       "      <th>582</th>\n",
       "      <td>2017-08-22T06:14:20Z</td>\n",
       "      <td>5</td>\n",
       "      <td>51325872</td>\n",
       "      <td>sctrojan79</td>\n",
       "      <td>2601744</td>\n",
       "      <td>yes</td>\n",
       "      <td>None</td>\n",
       "      <td>None</td>\n",
       "      <td>node/4694732478</td>\n",
       "      <td>None</td>\n",
       "      <td>...</td>\n",
       "      <td>None</td>\n",
       "      <td>None</td>\n",
       "      <td>None</td>\n",
       "      <td>None</td>\n",
       "      <td>None</td>\n",
       "      <td>None</td>\n",
       "      <td>lowered</td>\n",
       "      <td>yes</td>\n",
       "      <td>None</td>\n",
       "      <td>POINT (-122.3142924 47.6553254)</td>\n",
       "    </tr>\n",
       "  </tbody>\n",
       "</table>\n",
       "<p>3 rows × 30 columns</p>\n",
       "</div>"
      ],
      "text/plain": [
       "                timestamp version changeset            user      uid foot  \\\n",
       "0    2017-02-26T23:24:35Z       8  46428403      NickBolten  2773196  yes   \n",
       "22   2017-02-20T06:11:41Z       4  46233958  nbolten_import  5348229  yes   \n",
       "582  2017-08-22T06:14:20Z       5  51325872      sctrojan79  2601744  yes   \n",
       "\n",
       "      footway  highway               id   lit  \\\n",
       "0    sidewalk  footway    way/272711571  None   \n",
       "22   sidewalk  footway    way/436161748  None   \n",
       "582      None     None  node/4694732478  None   \n",
       "\n",
       "                           ...                         gtfs:stop_id operator  \\\n",
       "0                          ...                                 None     None   \n",
       "22                         ...                                 None     None   \n",
       "582                        ...                                 None     None   \n",
       "\n",
       "    public_transport   ref shelter source     kerb tactile_paving entrance  \\\n",
       "0               None  None    None   None     None           None     None   \n",
       "22              None  None    None   None     None           None     None   \n",
       "582             None  None    None   None  lowered            yes     None   \n",
       "\n",
       "                                              geometry  \n",
       "0    LINESTRING (-122.3119423 47.6569598, -122.3119...  \n",
       "22   LINESTRING (-122.3134001 47.6554413, -122.3133...  \n",
       "582                    POINT (-122.3142924 47.6553254)  \n",
       "\n",
       "[3 rows x 30 columns]"
      ]
     },
     "execution_count": 8,
     "metadata": {},
     "output_type": "execute_result"
    }
   ],
   "source": [
    "foot = sidewalks[sidewalks['foot'] == 'yes']\n",
    "foot"
   ]
  },
  {
   "cell_type": "code",
   "execution_count": 25,
   "metadata": {},
   "outputs": [
    {
     "data": {
      "image/svg+xml": [
       "<svg xmlns=\"http://www.w3.org/2000/svg\" xmlns:xlink=\"http://www.w3.org/1999/xlink\" width=\"100.0\" height=\"100.0\" viewBox=\"-123.3142924 46.6553254 2.0 2.0\" preserveAspectRatio=\"xMinYMin meet\"><g transform=\"matrix(1,0,0,-1,0,95.3106508)\"><circle cx=\"-122.3142924\" cy=\"47.6553254\" r=\"0.06\" stroke=\"#555555\" stroke-width=\"0.02\" fill=\"#66cc99\" opacity=\"0.6\" /></g></svg>"
      ],
      "text/plain": [
       "<shapely.geometry.point.Point at 0x7fb32767dcd0>"
      ]
     },
     "execution_count": 25,
     "metadata": {},
     "output_type": "execute_result"
    }
   ],
   "source": [
    "point = foot.loc[582].geometry\n",
    "point"
   ]
  },
  {
   "cell_type": "code",
   "execution_count": 22,
   "metadata": {},
   "outputs": [
    {
     "data": {
      "text/plain": [
       "<matplotlib.axes._subplots.AxesSubplot at 0x7fb32533cd90>"
      ]
     },
     "execution_count": 22,
     "metadata": {},
     "output_type": "execute_result"
    },
    {
     "data": {
      "image/png": "[encoded data removed]",
      "text/plain": [
       "<matplotlib.figure.Figure at 0x7fb3273c0a90>"
      ]
     },
     "metadata": {},
     "output_type": "display_data"
    }
   ],
   "source": [
    "lines = sidewalks[sidewalks.geometry.type == 'LineString']\n",
    "lines.plot()"
   ]
  },
  {
   "cell_type": "code",
   "execution_count": 38,
   "metadata": {},
   "outputs": [
    {
     "data": {
      "text/plain": [
       "timestamp                                        2017-02-27T00:39:01Z\n",
       "version                                                             1\n",
       "changeset                                                    46429365\n",
       "user                                                       NickBolten\n",
       "uid                                                           2773196\n",
       "foot                                                             None\n",
       "footway                                                      sidewalk\n",
       "highway                                                       footway\n",
       "id                                                      way/477384076\n",
       "lit                                                              None\n",
       "surface                                                          None\n",
       "name                                                             None\n",
       "wheelchair                                                       None\n",
       "horse                                                            None\n",
       "bicycle                                                          None\n",
       "layer                                                            None\n",
       "project                                                          None\n",
       "crossing                                                         None\n",
       "covered                                                          None\n",
       "gtfs:dataset_id                                                  None\n",
       "gtfs:stop_id                                                     None\n",
       "operator                                                         None\n",
       "public_transport                                                 None\n",
       "ref                                                              None\n",
       "shelter                                                          None\n",
       "source                                                           None\n",
       "kerb                                                             None\n",
       "tactile_paving                                                   None\n",
       "entrance                                                         None\n",
       "geometry            LINESTRING (-122.3142921 47.6553032, -122.3142...\n",
       "Name: 304, dtype: object"
      ]
     },
     "execution_count": 38,
     "metadata": {},
     "output_type": "execute_result"
    }
   ],
   "source": [
    "distances = lines.distance(point)\n",
    "sidewalk = sidewalks.loc[distances[distances == distances.min()].index[0]]\n",
    "sidewalk"
   ]
  },
  {
   "cell_type": "code",
   "execution_count": 39,
   "metadata": {},
   "outputs": [
    {
     "data": {
      "image/svg+xml": [
       "<svg xmlns=\"http://www.w3.org/2000/svg\" xmlns:xlink=\"http://www.w3.org/1999/xlink\" width=\"100.0\" height=\"100.0\" viewBox=\"-122.314293288 47.655302312 2.07600000124e-06 2.39760000085e-05\" preserveAspectRatio=\"xMinYMin meet\"><g transform=\"matrix(1,0,0,-1,0,95.3106286)\"><polyline fill=\"none\" stroke=\"#66cc99\" stroke-width=\"4.79520000169e-07\" points=\"-122.3142921,47.6553032 -122.3142924,47.6553254\" opacity=\"0.8\" /></g></svg>"
      ],
      "text/plain": [
       "<shapely.geometry.linestring.LineString at 0x7fb32776ecd0>"
      ]
     },
     "execution_count": 39,
     "metadata": {},
     "output_type": "execute_result"
    }
   ],
   "source": [
    "sidewalk_geom = sidewalk.geometry\n",
    "sidewalk_geom"
   ]
  },
  {
   "cell_type": "code",
   "execution_count": 45,
   "metadata": {},
   "outputs": [
    {
     "data": {
      "image/svg+xml": [
       "<svg xmlns=\"http://www.w3.org/2000/svg\" xmlns:xlink=\"http://www.w3.org/1999/xlink\" width=\"100.0\" height=\"100.0\" viewBox=\"-123.3142924 46.6553254 2.0 2.0\" preserveAspectRatio=\"xMinYMin meet\"><g transform=\"matrix(1,0,0,-1,0,95.3106508)\"><circle cx=\"-122.3142924\" cy=\"47.6553254\" r=\"0.06\" stroke=\"#555555\" stroke-width=\"0.02\" fill=\"#66cc99\" opacity=\"0.6\" /></g></svg>"
      ],
      "text/plain": [
       "<shapely.geometry.point.Point at 0x7fb3252d6810>"
      ]
     },
     "execution_count": 45,
     "metadata": {},
     "output_type": "execute_result"
    }
   ],
   "source": [
    "# Check shapely manual\n",
    "distance_along = sidewalk_geom.project(point)\n",
    "sidewalk_point = sidewalk_geom.interpolate(distance_along)\n",
    "sidewalk_point"
   ]
  },
  {
   "cell_type": "code",
   "execution_count": 2,
   "metadata": {},
   "outputs": [
    {
     "ename": "SyntaxError",
     "evalue": "invalid syntax (<ipython-input-2-32e32ee2c5a8>, line 5)",
     "output_type": "error",
     "traceback": [
      "\u001b[0;36m  File \u001b[0;32m\"<ipython-input-2-32e32ee2c5a8>\"\u001b[0;36m, line \u001b[0;32m5\u001b[0m\n\u001b[0;31m    ))])\u001b[0m\n\u001b[0m    ^\u001b[0m\n\u001b[0;31mSyntaxError\u001b[0m\u001b[0;31m:\u001b[0m invalid syntax\n"
     ]
    }
   ],
   "source": [
    "gpd.GeoDataFrame(pd.concat([lines, \n",
    "                            gpd.GeoDataFrame({'geometry': [sidewalk_point]})\n",
    "                            \n",
    "                            \n",
    "                            ))])"
   ]
  },
  {
   "cell_type": "code",
   "execution_count": 61,
   "metadata": {},
   "outputs": [
    {
     "data": {
      "text/plain": [
       "[304, 96, 300, 94, 303, 328, 327, 302, 24, 299]"
      ]
     },
     "execution_count": 61,
     "metadata": {},
     "output_type": "execute_result"
    }
   ],
   "source": [
    "mylist = [x.object for x in lines.sindex.nearest(point.bounds, 10, objects=True)]\n",
    "mylist"
   ]
  },
  {
   "cell_type": "code",
   "execution_count": 63,
   "metadata": {},
   "outputs": [
    {
     "data": {
      "text/plain": [
       "304    0.000000\n",
       "96     0.000022\n",
       "300    0.000053\n",
       "94     0.000053\n",
       "303    0.000057\n",
       "328    0.000109\n",
       "327    0.000109\n",
       "302    0.000125\n",
       "24     0.000128\n",
       "299    0.000201\n",
       "dtype: float64"
      ]
     },
     "execution_count": 63,
     "metadata": {},
     "output_type": "execute_result"
    }
   ],
   "source": [
    "lines.loc[mylist].distance(point)"
   ]
  },
  {
   "cell_type": "code",
   "execution_count": null,
   "metadata": {
    "collapsed": true
   },
   "outputs": [],
   "source": [
    "max_dist = 10\n",
    "record = []\n",
    "\n",
    "n = 1\n",
    "while True:\n",
    "    matches = [x.object for x in gdf.sindex.nearest(coords, n, True)]\n",
    "    distance = gdf.loc[matches[-1]].distance(point)\n",
    "    if distance < max_dist:\n",
    "        record.append(gdf.loc[matches[-1]])\n",
    "        n += 1\n",
    "    else:\n",
    "        break"
   ]
  }
 ],
 "metadata": {
  "kernelspec": {
   "display_name": "Python 2",
   "language": "python",
   "name": "python2"
  },
  "language_info": {
   "codemirror_mode": {
    "name": "ipython",
    "version": 3
   },
   "file_extension": ".py",
   "mimetype": "text/x-python",
   "name": "python",
   "nbconvert_exporter": "python",
   "pygments_lexer": "ipython3",
   "version": "3.6.3"
  }
 },
 "nbformat": 4,
 "nbformat_minor": 1
}
