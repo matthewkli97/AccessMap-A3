{
 "cells": [
  {
   "cell_type": "code",
   "execution_count": 2,
   "metadata": {},
   "outputs": [],
   "source": [
    "from lxml import etree"
   ]
  },
  {
   "cell_type": "code",
   "execution_count": 3,
   "metadata": {},
   "outputs": [],
   "source": [
    "import xml.etree.ElementTree as ET\n",
    "tree = ET.parse('../data/small_map.osm')\n",
    "root = tree.getroot()"
   ]
  },
  {
   "cell_type": "code",
   "execution_count": 4,
   "metadata": {},
   "outputs": [
    {
     "data": {
      "text/plain": [
       "'osm'"
      ]
     },
     "execution_count": 4,
     "metadata": {},
     "output_type": "execute_result"
    }
   ],
   "source": [
    "root.tag"
   ]
  },
  {
   "cell_type": "code",
   "execution_count": 5,
   "metadata": {},
   "outputs": [
    {
     "data": {
      "text/plain": [
       "<Element 'osm' at 0x109b8db88>"
      ]
     },
     "execution_count": 5,
     "metadata": {},
     "output_type": "execute_result"
    }
   ],
   "source": [
    "root"
   ]
  },
  {
   "cell_type": "code",
   "execution_count": 19,
   "metadata": {},
   "outputs": [
    {
     "data": {
      "text/plain": [
       "'way'"
      ]
     },
     "execution_count": 19,
     "metadata": {},
     "output_type": "execute_result"
    }
   ],
   "source": [
    "node_list = root.findall(\"way[@id='4637378']\")\n",
    "\n",
    "node_list[0].tag"
   ]
  },
  {
   "cell_type": "code",
   "execution_count": 23,
   "metadata": {},
   "outputs": [
    {
     "data": {
      "text/plain": [
       "'way'"
      ]
     },
     "execution_count": 23,
     "metadata": {},
     "output_type": "execute_result"
    }
   ],
   "source": [
    "xml = '<way id=\"4637399\" visible=\"true\" version=\"9\" changeset=\"52813842\" timestamp=\"2017-10-11T07:21:18Z\" user=\"bhavana naga\" uid=\"5677293\"><nd ref=\"29485034\"/><nd ref=\"1864943573\"/><nd ref=\"29485207\"/><nd ref=\"4608624954\"/><nd ref=\"4608624953\"/><nd ref=\"29485208\"/><nd ref=\"4608600081\"/><nd ref=\"4608600080\"/><nd ref=\"4608600079\"/><nd ref=\"29485210\"/><nd ref=\"4608600078\"/><nd ref=\"29485212\"/><nd ref=\"4608600085\"/><nd ref=\"4608600084\"/><nd ref=\"29485213\"/><nd ref=\"4608600082\"/><nd ref=\"4608600083\"/><nd ref=\"29485214\"/><nd ref=\"2492717539\"/><nd ref=\"677188019\"/><tag k=\"bicycle\" v=\"no\"/><tag k=\"destination\" v=\"Northeast 50th Street;Seattle Pacific University\"/><tag k=\"highway\" v=\"motorway_link\"/><tag k=\"lanes\" v=\"1\"/><tag k=\"oneway\" v=\"yes\"/></way>'\n",
    "\n",
    "root = etree.fromstring(xml)\n",
    "root.tag"
   ]
  },
  {
   "cell_type": "code",
   "execution_count": null,
   "metadata": {},
   "outputs": [],
   "source": []
  }
 ],
 "metadata": {
  "kernelspec": {
   "display_name": "Python 3",
   "language": "python",
   "name": "python3"
  },
  "language_info": {
   "codemirror_mode": {
    "name": "ipython",
    "version": 3
   },
   "file_extension": ".py",
   "mimetype": "text/x-python",
   "name": "python",
   "nbconvert_exporter": "python",
   "pygments_lexer": "ipython3",
   "version": "3.6.3"
  }
 },
 "nbformat": 4,
 "nbformat_minor": 2
}
